{
  "nbformat": 4,
  "nbformat_minor": 0,
  "metadata": {
    "colab": {
      "name": "Tutorial12_forloop.ipynb",
      "provenance": [],
      "authorship_tag": "ABX9TyMGJ9vURdIE3RoF3f2c6ixi",
      "include_colab_link": true
    },
    "kernelspec": {
      "name": "python3",
      "display_name": "Python 3"
    }
  },
  "cells": [
    {
      "cell_type": "markdown",
      "metadata": {
        "id": "view-in-github",
        "colab_type": "text"
      },
      "source": [
        "<a href=\"https://colab.research.google.com/github/Shambhavi-Gupta/Tutorial12_forloop/blob/main/Tutorial12_forloop.ipynb\" target=\"_parent\"><img src=\"https://colab.research.google.com/assets/colab-badge.svg\" alt=\"Open In Colab\"/></a>"
      ]
    },
    {
      "cell_type": "code",
      "metadata": {
        "id": "fJUmVEtSUDtN"
      },
      "source": [
        "# list1 = [\"Leena\" , \"Meera\" ,\"Sameera\"]\r\n",
        "#\r\n",
        "# for item in list1:\r\n",
        "#      print(item)\r\n",
        "\r\n",
        "\r\n",
        "list1 = [[\"Leena\" , 5] ,[\"Meera\" , 2] ,\r\n",
        "         [\"Sameera\" , 10]]\r\n",
        "\r\n",
        "# for item , chocolates in list1:\r\n",
        "#      print(item , chocolates)\r\n",
        "\r\n",
        "\r\n",
        "dict1 = dict(list1)\r\n",
        "\r\n",
        "for item in dict1:\r\n",
        "      print(item)"
      ],
      "execution_count": null,
      "outputs": []
    }
  ]
}